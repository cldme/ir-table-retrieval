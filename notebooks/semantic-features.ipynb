{
 "cells": [
  {
   "cell_type": "code",
   "execution_count": 1,
   "metadata": {},
   "outputs": [],
   "source": [
    "import nltk\n",
    "import numpy as np\n",
    "import pandas as pd\n",
    "import json"
   ]
  },
  {
   "cell_type": "code",
   "execution_count": 2,
   "metadata": {},
   "outputs": [
    {
     "name": "stderr",
     "output_type": "stream",
     "text": [
      "unable to import 'smart_open.gcs', disabling that module\n"
     ]
    }
   ],
   "source": [
    "from gensim.test.utils import common_texts, get_tmpfile\n",
    "from gensim.models import Word2Vec \n",
    "model = Word2Vec.load(\"word2vec.model\")\n",
    "wordvectors = model.wv"
   ]
  },
  {
   "cell_type": "code",
   "execution_count": 3,
   "metadata": {},
   "outputs": [],
   "source": [
    "from embeddings import *"
   ]
  },
  {
   "cell_type": "code",
   "execution_count": 4,
   "metadata": {},
   "outputs": [
    {
     "name": "stderr",
     "output_type": "stream",
     "text": [
      "D:\\uni\\Information Retrieval\\ir-table-retrieval\\notebooks\\embeddings.py:88: RuntimeWarning: invalid value encountered in true_divide\n",
      "  tableVectors[i] = tableVectors[i] / cnt\n"
     ]
    },
    {
     "data": {
      "text/plain": [
       "array([[-0.30371577,  0.09239819, -0.21800009, ..., -0.2989548 ,\n",
       "        -0.3864776 , -0.01340595],\n",
       "       [ 0.94494818,  0.19032067,  0.11043466, ...,  0.41423298,\n",
       "        -0.16674545, -0.06855481],\n",
       "       [ 0.48666451,  0.27333886, -0.19957224, ..., -0.62021699,\n",
       "        -0.41146119,  0.00691498],\n",
       "       ...,\n",
       "       [ 1.36196357, -0.09105264,  0.55096011, ..., -0.27977124,\n",
       "        -0.27296152,  0.23613923],\n",
       "       [ 1.18974726, -1.33939999, -0.36191412, ..., -0.08103966,\n",
       "        -0.80606849, -0.46003125],\n",
       "       [-2.55467796,  2.44641995,  2.37863827, ..., -0.2747888 ,\n",
       "        -2.41801977, -0.5656811 ]])"
      ]
     },
     "execution_count": 4,
     "metadata": {},
     "output_type": "execute_result"
    }
   ],
   "source": [
    "getCentroidTableVectors(\"data/tables/re_tables-0001.json\")"
   ]
  },
  {
   "cell_type": "code",
   "execution_count": 5,
   "metadata": {},
   "outputs": [
    {
     "data": {
      "text/plain": [
       "array([[ 0.67891966, -0.70835274,  1.18158561, ...,  0.52615838,\n",
       "        -0.04399711,  0.33076431],\n",
       "       [ 1.64876398, -0.43885274, -0.49000961, ...,  0.45624346,\n",
       "         0.47582245,  0.42979056],\n",
       "       [ 2.35597533, -1.99627107,  0.99608696, ...,  1.92103237,\n",
       "         1.27038148,  1.79227424],\n",
       "       ...,\n",
       "       [ 0.17155981, -1.77211511,  1.92672828, ..., -0.62586447,\n",
       "        -0.02711424, -0.86335418],\n",
       "       [ 0.73264539, -0.64364326,  0.56742282, ..., -0.35331881,\n",
       "        -0.35729294,  0.91935698],\n",
       "       [-0.09381998, -3.49026704, -0.30717258, ..., -1.65977776,\n",
       "        -1.44173491, -1.93865886]])"
      ]
     },
     "execution_count": 5,
     "metadata": {},
     "output_type": "execute_result"
    }
   ],
   "source": [
    "getCentroidQueryVectors(\"data/queries/queries.txt\")"
   ]
  },
  {
   "cell_type": "code",
   "execution_count": null,
   "metadata": {},
   "outputs": [],
   "source": []
  }
 ],
 "metadata": {
  "kernelspec": {
   "display_name": "Python 3",
   "language": "python",
   "name": "python3"
  },
  "language_info": {
   "codemirror_mode": {
    "name": "ipython",
    "version": 3
   },
   "file_extension": ".py",
   "mimetype": "text/x-python",
   "name": "python",
   "nbconvert_exporter": "python",
   "pygments_lexer": "ipython3",
   "version": "3.7.4"
  }
 },
 "nbformat": 4,
 "nbformat_minor": 2
}
