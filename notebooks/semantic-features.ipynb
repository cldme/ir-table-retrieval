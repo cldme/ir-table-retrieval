{
 "cells": [
  {
   "cell_type": "code",
   "execution_count": 1,
   "metadata": {},
   "outputs": [],
   "source": [
    "import nltk\n",
    "import numpy as np\n",
    "import pandas as pd\n",
    "import json"
   ]
  },
  {
   "cell_type": "code",
   "execution_count": 2,
   "metadata": {},
   "outputs": [
    {
     "name": "stderr",
     "output_type": "stream",
     "text": [
      "unable to import 'smart_open.gcs', disabling that module\n"
     ]
    }
   ],
   "source": [
    "from gensim.test.utils import common_texts, get_tmpfile\n",
    "from gensim.models import Word2Vec \n",
    "model = Word2Vec.load(\"word2vec.model\")\n",
    "wordvectors = model.wv"
   ]
  },
  {
   "cell_type": "code",
   "execution_count": 3,
   "metadata": {},
   "outputs": [],
   "source": [
    "from embeddings import *"
   ]
  },
  {
   "cell_type": "code",
   "execution_count": 4,
   "metadata": {},
   "outputs": [
    {
     "name": "stderr",
     "output_type": "stream",
     "text": [
      "D:\\uni\\Information Retrieval\\ir-table-retrieval\\notebooks\\embeddings.py:87: RuntimeWarning: divide by zero encountered in true_divide\n",
      "  tableVectors = tableVectors / cnt\n",
      "D:\\uni\\Information Retrieval\\ir-table-retrieval\\notebooks\\embeddings.py:87: RuntimeWarning: invalid value encountered in true_divide\n",
      "  tableVectors = tableVectors / cnt\n"
     ]
    },
    {
     "name": "stdout",
     "output_type": "stream",
     "text": [
      "[ inf -inf  inf  inf  inf -inf -inf  inf  inf  inf  inf  inf -inf  inf\n",
      " -inf -inf -inf  inf -inf  inf -inf -inf -inf -inf  inf  inf  inf -inf\n",
      "  inf -inf  inf  inf  inf -inf  inf -inf -inf -inf -inf -inf  inf  inf\n",
      " -inf  inf  inf -inf  inf  inf  inf -inf -inf  inf  inf  inf -inf  inf\n",
      "  inf  inf  inf  inf  inf -inf  inf  inf -inf -inf  inf  inf  inf -inf\n",
      " -inf -inf  inf -inf -inf -inf  inf -inf -inf  inf  inf -inf -inf  inf\n",
      " -inf -inf -inf  inf -inf -inf  inf -inf  inf -inf  inf -inf -inf  inf\n",
      "  inf -inf -inf  inf  inf -inf  inf  inf  inf -inf -inf -inf -inf  inf\n",
      "  inf -inf -inf  inf  inf -inf  inf -inf  inf -inf -inf  inf -inf -inf\n",
      "  inf -inf -inf  inf  inf  inf -inf  inf -inf -inf -inf -inf -inf -inf\n",
      "  inf -inf -inf  inf  inf  inf  inf -inf -inf -inf -inf -inf  inf  inf\n",
      "  inf -inf -inf  inf -inf -inf  inf -inf  inf  inf  inf  inf  inf  inf\n",
      " -inf  inf -inf  inf  inf -inf -inf  inf -inf -inf -inf  inf -inf -inf\n",
      " -inf  inf -inf  inf  inf -inf -inf  inf -inf  inf -inf -inf -inf  inf\n",
      "  inf -inf  inf  inf -inf  inf  inf  inf  inf -inf -inf -inf -inf -inf\n",
      " -inf  inf -inf  inf  inf  inf  inf  inf  inf  inf  inf  inf -inf -inf\n",
      "  inf  inf  inf -inf -inf  inf  inf  inf -inf -inf -inf -inf -inf -inf\n",
      "  inf -inf  inf -inf -inf -inf -inf  inf  inf  inf -inf -inf  inf -inf\n",
      " -inf  inf  inf -inf  inf -inf  inf  inf  inf -inf  inf  inf  inf -inf\n",
      " -inf  inf -inf -inf  inf  inf  inf -inf -inf  inf  inf -inf  inf  inf\n",
      " -inf  inf  inf -inf -inf -inf -inf -inf -inf -inf -inf -inf -inf  inf\n",
      " -inf -inf -inf -inf -inf -inf]\n",
      "[[ inf -inf  inf ... -inf -inf  inf]\n",
      " [-inf -inf  inf ...  inf -inf -inf]\n",
      " [ inf -inf  inf ... -inf -inf -inf]\n",
      " ...\n",
      " [ nan  nan  nan ...  nan  nan  nan]\n",
      " [ nan  nan  nan ...  nan  nan  nan]\n",
      " [ nan  nan  nan ...  nan  nan  nan]]\n"
     ]
    }
   ],
   "source": [
    "getCentroidTableVectors(\"data/tables/re_tables-0001.json\")"
   ]
  },
  {
   "cell_type": "code",
   "execution_count": 5,
   "metadata": {},
   "outputs": [
    {
     "data": {
      "text/plain": [
       "array([[ 2.37173793e-25, -2.47455948e-25,  4.12775117e-25, ...,\n",
       "         1.83808167e-25, -1.53699500e-26,  1.15549203e-25],\n",
       "       [ 1.15195842e-24, -3.06617634e-25, -3.42359911e-25, ...,\n",
       "         3.18768177e-25,  3.32447628e-25,  3.00286066e-25],\n",
       "       [ 3.29214568e-24, -2.78950934e-24,  1.39189207e-24, ...,\n",
       "         2.68437379e-24,  1.77518026e-24,  2.50445232e-24],\n",
       "       ...,\n",
       "       [ 2.85933018e-02, -2.95352519e-01,  3.21121380e-01, ...,\n",
       "        -1.04310744e-01, -4.51904039e-03, -1.43892363e-01],\n",
       "       [ 3.66322696e-01, -3.21821628e-01,  2.83711409e-01, ...,\n",
       "        -1.76659403e-01, -1.78646470e-01,  4.59678491e-01],\n",
       "       [-9.38199759e-02, -3.49026704e+00, -3.07172582e-01, ...,\n",
       "        -1.65977776e+00, -1.44173491e+00, -1.93865886e+00]])"
      ]
     },
     "execution_count": 5,
     "metadata": {},
     "output_type": "execute_result"
    }
   ],
   "source": [
    "getCentroidQueryVectors(\"data/queries/queries.txt\")"
   ]
  },
  {
   "cell_type": "code",
   "execution_count": null,
   "metadata": {},
   "outputs": [],
   "source": []
  }
 ],
 "metadata": {
  "kernelspec": {
   "display_name": "Python 3",
   "language": "python",
   "name": "python3"
  },
  "language_info": {
   "codemirror_mode": {
    "name": "ipython",
    "version": 3
   },
   "file_extension": ".py",
   "mimetype": "text/x-python",
   "name": "python",
   "nbconvert_exporter": "python",
   "pygments_lexer": "ipython3",
   "version": "3.7.4"
  }
 },
 "nbformat": 4,
 "nbformat_minor": 2
}
